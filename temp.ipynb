{
 "cells": [
  {
   "cell_type": "code",
   "execution_count": 1,
   "metadata": {},
   "outputs": [],
   "source": [
    "import pandas as pd"
   ]
  },
  {
   "cell_type": "code",
   "execution_count": 2,
   "metadata": {},
   "outputs": [],
   "source": [
    "df = pd.DataFrame([['app1', 1], ['app2', 12]], columns=['AppName', 'AppTime'])"
   ]
  },
  {
   "cell_type": "code",
   "execution_count": 8,
   "metadata": {},
   "outputs": [
    {
     "ename": "TypeError",
     "evalue": "only list-like or dict-like objects are allowed to be passed to DataFrame.isin(), you passed a 'str'",
     "output_type": "error",
     "traceback": [
      "\u001b[1;31m---------------------------------------------------------------------------\u001b[0m",
      "\u001b[1;31mTypeError\u001b[0m                                 Traceback (most recent call last)",
      "\u001b[1;32mc:\\Users\\Misha\\Projects\\im_bored\\limit\\temp.ipynb Cell 3\u001b[0m in \u001b[0;36m<module>\u001b[1;34m\u001b[0m\n\u001b[1;32m----> <a href='vscode-notebook-cell:/c%3A/Users/Misha/Projects/im_bored/limit/temp.ipynb#W2sZmlsZQ%3D%3D?line=0'>1</a>\u001b[0m df\u001b[39m.\u001b[39;49misin(\u001b[39m'\u001b[39;49m\u001b[39mapp1\u001b[39;49m\u001b[39m'\u001b[39;49m)\n",
      "File \u001b[1;32m~\\AppData\\Local\\Packages\\PythonSoftwareFoundation.Python.3.9_qbz5n2kfra8p0\\LocalCache\\local-packages\\Python39\\site-packages\\pandas\\core\\frame.py:10724\u001b[0m, in \u001b[0;36mDataFrame.isin\u001b[1;34m(self, values)\u001b[0m\n\u001b[0;32m  10722\u001b[0m \u001b[39melse\u001b[39;00m:\n\u001b[0;32m  10723\u001b[0m     \u001b[39mif\u001b[39;00m \u001b[39mnot\u001b[39;00m is_list_like(values):\n\u001b[1;32m> 10724\u001b[0m         \u001b[39mraise\u001b[39;00m \u001b[39mTypeError\u001b[39;00m(\n\u001b[0;32m  10725\u001b[0m             \u001b[39m\"\u001b[39m\u001b[39monly list-like or dict-like objects are allowed \u001b[39m\u001b[39m\"\u001b[39m\n\u001b[0;32m  10726\u001b[0m             \u001b[39m\"\u001b[39m\u001b[39mto be passed to DataFrame.isin(), \u001b[39m\u001b[39m\"\u001b[39m\n\u001b[0;32m  10727\u001b[0m             \u001b[39mf\u001b[39m\u001b[39m\"\u001b[39m\u001b[39myou passed a \u001b[39m\u001b[39m'\u001b[39m\u001b[39m{\u001b[39;00m\u001b[39mtype\u001b[39m(values)\u001b[39m.\u001b[39m\u001b[39m__name__\u001b[39m\u001b[39m}\u001b[39;00m\u001b[39m'\u001b[39m\u001b[39m\"\u001b[39m\n\u001b[0;32m  10728\u001b[0m         )\n\u001b[0;32m  10729\u001b[0m     \u001b[39mreturn\u001b[39;00m \u001b[39mself\u001b[39m\u001b[39m.\u001b[39m_constructor(\n\u001b[0;32m  10730\u001b[0m         algorithms\u001b[39m.\u001b[39misin(\u001b[39mself\u001b[39m\u001b[39m.\u001b[39mvalues\u001b[39m.\u001b[39mravel(), values)\u001b[39m.\u001b[39mreshape(\u001b[39mself\u001b[39m\u001b[39m.\u001b[39mshape),\n\u001b[0;32m  10731\u001b[0m         \u001b[39mself\u001b[39m\u001b[39m.\u001b[39mindex,\n\u001b[0;32m  10732\u001b[0m         \u001b[39mself\u001b[39m\u001b[39m.\u001b[39mcolumns,\n\u001b[0;32m  10733\u001b[0m     )\n",
      "\u001b[1;31mTypeError\u001b[0m: only list-like or dict-like objects are allowed to be passed to DataFrame.isin(), you passed a 'str'"
     ]
    }
   ],
   "source": [
    "df.isin(['app1'])"
   ]
  },
  {
   "cell_type": "code",
   "execution_count": null,
   "metadata": {},
   "outputs": [],
   "source": []
  }
 ],
 "metadata": {
  "kernelspec": {
   "display_name": "Python 3.9.13 64-bit (windows store)",
   "language": "python",
   "name": "python3"
  },
  "language_info": {
   "codemirror_mode": {
    "name": "ipython",
    "version": 3
   },
   "file_extension": ".py",
   "mimetype": "text/x-python",
   "name": "python",
   "nbconvert_exporter": "python",
   "pygments_lexer": "ipython3",
   "version": "3.9.13"
  },
  "orig_nbformat": 4,
  "vscode": {
   "interpreter": {
    "hash": "9d44836d7f9926c8105ffe2ba25a986724429d6d6ff6b04853e3ee442d611f35"
   }
  }
 },
 "nbformat": 4,
 "nbformat_minor": 2
}
